{
 "cells": [
  {
   "cell_type": "code",
   "execution_count": 1,
   "metadata": {},
   "outputs": [],
   "source": [
    "# Import the required packages\n",
    "import warnings\n",
    "warnings.filterwarnings('ignore')\n",
    "import numpy as np\n",
    "import pandas as pd\n",
    "import seaborn as sns\n",
    "import matplotlib.pyplot as plt\n",
    "import ast, os\n",
    "import bambi as bmb\n",
    "import pymc as pm\n",
    "import arviz as az\n",
    "import scipy.stats as stat\n",
    "from collections import Counter\n",
    "import itertools\n",
    "import hssm\n"
   ]
  },
  {
   "cell_type": "code",
   "execution_count": null,
   "metadata": {},
   "outputs": [],
   "source": [
    "#Set up plotting themes\n",
    "sns.set_context('paper')\n",
    "sns.set_style('darkgrid')\n",
    "sns.set_palette('colorblind')"
   ]
  },
  {
   "cell_type": "markdown",
   "metadata": {},
   "source": [
    "# Plot RTs and Accuracies"
   ]
  },
  {
   "cell_type": "code",
   "execution_count": null,
   "metadata": {},
   "outputs": [],
   "source": [
    "# Read in data\n",
    "phase = 'exposure' #Options 'exposure' or 'memory'\n",
    "if phase == 'exposure':\n",
    "    df_clean = pd.read_csv('df_clean_exposure.csv')\n",
    "else:\n",
    "    df_clean = pd.read_csv('df_clean_memory')\n",
    "\n",
    "df_clean_grouped = df_clean.groupby(['participant', 'block', 'node type', 'condition']).mean(numeric_only=True).reset_index()"
   ]
  },
  {
   "cell_type": "code",
   "execution_count": null,
   "metadata": {},
   "outputs": [],
   "source": [
    "# Set plot parameters\n",
    "sns.set_context('paper')\n",
    "sns.set(font_scale=1.5)"
   ]
  },
  {
   "cell_type": "code",
   "execution_count": null,
   "metadata": {},
   "outputs": [],
   "source": [
    "#Specify which measure to be plotted ('accuracy' or 'rt')\n",
    "measure = 'accuracy'\n",
    "\n",
    "\n",
    "g = sns.catplot(col = 'node type', y = measure,  \n",
    "           data = df_clean, kind = 'point', margin_titles=True, col_order = ['boundary', 'nonboundary'],#, 'new'],\n",
    "                x = 'block', hue = 'condition', ci=95, hue_order=['unstructured', 'structured'])\n",
    "sns.stripplot(y = measure, x = 'block', hue = 'condition', \n",
    "              data = df_clean_grouped.loc[df_clean_grouped['node type'] == 'boundary'], \n",
    "              ax=g.axes[0][0], legend=False, alpha = 0.4)\n",
    "sns.stripplot(y = measure, x = 'block', hue = 'condition', \n",
    "              data = df_clean_grouped.loc[df_clean_grouped['node type'] == 'nonboundary'], \n",
    "              ax=g.axes[0][1], legend=False, alpha = 0.4)\n",
    "\n",
    "# Uncomment the line below for plotting memory to also plot responses for new items\n",
    "# sns.stripplot(y = measure, x = 'block', hue = 'condition', \n",
    "#               data = df_clean_memory_grouped.loc[df_clean_memory_grouped['node type'] == 'new'], \n",
    "#               ax=g.axes[0][2], legend=False, alpha = 0.4)\n",
    "\n",
    "g._legend.set_title('Graph type')\n",
    "g.axes[0][0].set_title('Boundary Node Items')\n",
    "g.axes[0][1].set_title('Non Boundary Node Items')\n",
    "# g.axes[0][2].set_title('New Items') #Uncomment for new\n",
    "\n",
    "g.axes[0][0].set_ylabel(f'Exposure {measure} \\n (proportion correct)')\n",
    "g.axes[0][0].set_xlabel('Block')\n",
    "g.axes[0][1].set_xlabel('Block')\n",
    "# g.axes[0][2].set_xlabel('Block') #Uncomment for new\n",
    "\n",
    "\n",
    "g.axes[0][0].set_xticklabels(['1', '2', '3'])\n",
    "g.axes[0][1].set_xticklabels(['1', '2', '3'])\n",
    "# g.axes[0][2].set_xticklabels(['1', '2', '3']) #Uncomment for new\n",
    "\n",
    "plt.savefig(f'figures/exposure_{measure}.png', dpi = 300)\n"
   ]
  },
  {
   "cell_type": "markdown",
   "metadata": {},
   "source": [
    "# Read stats and model outputs\n",
    "Code below presents an example to save stat tables which are in the manuscript. \n",
    "\n",
    "Can only be run after posterior traces are created and saved in appropriate files. See 'bayesian_models.py' for details"
   ]
  },
  {
   "cell_type": "markdown",
   "metadata": {},
   "source": [
    "## RT/Accuracy by exposure time"
   ]
  },
  {
   "cell_type": "code",
   "execution_count": null,
   "metadata": {},
   "outputs": [],
   "source": [
    "samples = az.from_netcdf('model_results/exposure_nt_accuracy.nc') #Read model outputs\n",
    "stat_table = az.summary(samples, filter_vars='like', var_names = ['trials', 'condition', 'trials', 'node_type', 'Intercept'], hdi_prob=.95, round_to=2) #Compute summary\n",
    "stat_table[['mean', 'sd', 'hdi_2.5%', 'hdi_97.5%']].to_latex('model_results/stats/accuracy.txt', float_format=\"%.2f\") #Save to latex table\n",
    "stat_table[['mean', 'sd', 'hdi_2.5%', 'hdi_97.5%']] #Print in notebook"
   ]
  },
  {
   "cell_type": "markdown",
   "metadata": {},
   "source": [
    "## DDM\n",
    "\n",
    "Can only be run after creating model posteriors. See hssm_modelfits.py for doing so"
   ]
  },
  {
   "cell_type": "code",
   "execution_count": null,
   "metadata": {},
   "outputs": [],
   "source": [
    "#Read (best) fit models for structured and unstructured group participants\n",
    "ddm_model_samples_unstructured = az.from_netcdf(f'hssm_results/unstructured_v~acc_exp-nodetype-nodetype|ppt_a~block-|ppt_z~block-|ppt_t~|ppt.nc')\n",
    "ddm_model_samples_structured = az.from_netcdf(f'hssm_results/structured_v~acc_exp-nodetype-nodetype|ppt_a~block-|ppt_z~block-|ppt_t~|ppt.nc')\n"
   ]
  },
  {
   "cell_type": "code",
   "execution_count": null,
   "metadata": {},
   "outputs": [],
   "source": [
    "sns.set_palette('colorblind')\n",
    "sns.set(font_scale = 1)\n",
    "\n",
    "#Read posteriors of boundary/non boundary parameters for both participant groups\n",
    "bs = ddm_model_samples_structured['posterior'].sel({'v_C(node_type)_dim': 'boundary'})['v_C(node_type)']\n",
    "nbs = ddm_model_samples_structured['posterior'].sel({'v_C(node_type)_dim': 'nonboundary'})['v_C(node_type)']\n",
    "bus = ddm_model_samples_unstructured['posterior'].sel({'v_C(node_type)_dim': 'boundary'})['v_C(node_type)']\n",
    "nbus = ddm_model_samples_unstructured['posterior'].sel({'v_C(node_type)_dim': 'nonboundary'})['v_C(node_type)']\n",
    "\n",
    "#Plot differences between boundary and non-boundary for both groups\n",
    "sns.histplot(np.ravel(bus-nbus), alpha = .5, label = 'Unstructured Graph')\n",
    "sns.histplot(np.ravel(bs - nbs), alpha = .5, label = 'Structured Graph')\n",
    "\n",
    "plt.axvline(x = 0, ls = '--', color = 'black')\n",
    "plt.text(x = np.mean(bs-nbs), y = 200, s = f'{str((np.array(np.mean(((bs-nbs)>0))))*100)[:4]}% samples > 0', weight = 'bold')\n",
    "plt.text(x = np.mean(bus-nbus), y = 175, s = f'{str((np.array(np.mean(((bus-nbus)>0))))*100)[:4]}% samples > 0', weight = 'bold')\n",
    "plt.legend(loc = 'upper left')\n",
    "plt.xlabel('Boundary - Non Boundary \\n Drift Rate Differences')\n",
    "plt.tight_layout()\n",
    "plt.savefig('figures/ddm_results.png', dpi = 300)"
   ]
  },
  {
   "cell_type": "markdown",
   "metadata": {},
   "source": [
    "## DDM Stats"
   ]
  },
  {
   "cell_type": "code",
   "execution_count": null,
   "metadata": {},
   "outputs": [],
   "source": [
    "#Compute stats and store summary in latex table\n",
    "CONDITION = 'structured'\n",
    "#Change the file name (first argument) for whichever condition these are to be computed\n",
    "az.summary(ddm_model_samples_structured, var_names= '~participant', filter_vars='like', hdi_prob=.95)[['mean', 'sd', 'hdi_2.5%', 'hdi_97.5%']].to_latex(f'model_results/stats/ddm_params_{CONDITION}.txt', float_format=\"%.2f\")\n"
   ]
  },
  {
   "cell_type": "markdown",
   "metadata": {},
   "source": [
    "## DDM Model Comparisons\n",
    "\n",
    "Can only be done after all candidate models are fit using hssm_modelfits file."
   ]
  },
  {
   "cell_type": "code",
   "execution_count": null,
   "metadata": {},
   "outputs": [],
   "source": [
    "# Specify which participant group\n",
    "CONDITION = 'structured'\n",
    "# Read all candidate model posteriors\n",
    "ddm_model_ablock_samples = az.from_netcdf(f'hssm_results/{CONDITION}_v~acc_exp-1|ppt_a~block-|ppt_z~|ppt_t~|ppt.nc')\n",
    "ddm_model_nt_ablock_samples = az.from_netcdf(f'hssm_results/{CONDITION}_v~acc_exp-nodetype-nodetype|ppt_a~block-|ppt_z~|ppt_t~|ppt.nc')\n",
    "ddm_model_nt_zblock_ablock_samples = az.from_netcdf(f'hssm_results/{CONDITION}_v~acc_exp-nodetype-nodetype|ppt_a~block-|ppt_z~block-|ppt_t~|ppt.nc')\n",
    "ddm_model_nt_samples = az.from_netcdf(f'hssm_results/{CONDITION}_v~acc_exp-nodetype-nodetype|ppt_a~|ppt_z~|ppt_t~|ppt.nc')\n",
    "ddm_model_ntblock_zblock_ablock_samples = az.from_netcdf(f'hssm_results/{CONDITION}_v~acc_exp-block-nodetype-nodetype|ppt_a~block-|ppt_z~block-|ppt_t~|ppt.nc')\n",
    "\n",
    "#Save in dictionary for arviz comparison\n",
    "models = {\n",
    "    'ddm_ntblock_zblock_ablock':ddm_model_ntblock_zblock_ablock_samples, \n",
    "    'ddm_nt_zblock_ablock':ddm_model_nt_zblock_ablock_samples, \n",
    "    'ddm_model_nt_ablock':ddm_model_nt_ablock_samples, \n",
    "    'ddm_ablock':ddm_model_ablock_samples, \n",
    "    'ddm_nt': ddm_model_nt_samples\n",
    "}\n",
    "\n",
    "#Compare, plot, and save\n",
    "sns.set_theme('paper')\n",
    "model_compare = az.compare(models)\n",
    "az.plot_compare(model_compare)\n",
    "plt.title(f'Model comparison \\n higher is better \\n {CONDITION}')\n",
    "plt.savefig(f'figures/model_comparison_{CONDITION}', dpi = 300)\n",
    "model_compare.iloc[:, [0, 1, 2, 4]].to_latex(f'model_results/stats/ddm_compare_{CONDITION}.txt', float_format=\"%.2f\")\n",
    "# STRUCTURED_COMPARE"
   ]
  },
  {
   "cell_type": "markdown",
   "metadata": {},
   "source": []
  }
 ],
 "metadata": {
  "kernelspec": {
   "display_name": "Python [conda env:.conda-eb_music]",
   "language": "python",
   "name": "conda-env-.conda-eb_music-py"
  },
  "language_info": {
   "codemirror_mode": {
    "name": "ipython",
    "version": 3
   },
   "file_extension": ".py",
   "mimetype": "text/x-python",
   "name": "python",
   "nbconvert_exporter": "python",
   "pygments_lexer": "ipython3",
   "version": "3.11.8"
  }
 },
 "nbformat": 4,
 "nbformat_minor": 4
}
